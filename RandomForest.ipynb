{
  "cells": [
    {
      "cell_type": "code",
      "execution_count": 11,
      "metadata": {
        "colab": {
          "base_uri": "https://localhost:8080/"
        },
        "id": "yEtyCb_sdbB8",
        "outputId": "f1a4009c-d690-487c-ecd5-a33a1e5f5f2d"
      },
      "outputs": [
        {
          "name": "stdout",
          "output_type": "stream",
          "text": [
            "Shapes - X_train: (1167, 3160)  y_train: (1167,)\n",
            "Unique labels: [0 1 2 3 4]\n",
            "Shape of X_test: (305, 3160)\n"
          ]
        }
      ],
      "source": [
        "import os\n",
        "import pandas as pd\n",
        "import numpy as np\n",
        "import math\n",
        "from sklearn.preprocessing import LabelEncoder\n",
        "\n",
        "# Function to preprocess pose data\n",
        "def preprocess_pose_data(file_path, num_bins=40, target_rows=1000):\n",
        "    col = [f'{i}' for i in range(0, 79)]\n",
        "    pose_data = pd.read_csv(file_path, names=col, header=None)\n",
        "\n",
        "\n",
        "    #pose_data.drop(['30', '31', '32', ...], axis=1, inplace=True)\n",
        "\n",
        "    pose_data.fillna(0, inplace=True)\n",
        "\n",
        "    rows_to_add = target_rows - len(pose_data)\n",
        "\n",
        "    if rows_to_add > 0:\n",
        "        n_iter = math.ceil(rows_to_add / len(pose_data))\n",
        "        for _ in range(n_iter):\n",
        "            additional_data = pose_data.iloc[0:rows_to_add, :]\n",
        "            pose_data = pd.concat([pose_data, additional_data], ignore_index=True)\n",
        "\n",
        "    elif rows_to_add < 0:\n",
        "        pose_data = pose_data.iloc[0:target_rows, :]\n",
        "\n",
        "    histogram_vector = np.array([])\n",
        "\n",
        "    for joint in pose_data.columns:\n",
        "        hist, _ = np.histogram(pose_data[joint], bins=num_bins, density=True)\n",
        "        histogram_vector = np.concatenate((histogram_vector, hist))\n",
        "\n",
        "    histogram_vector = histogram_vector.reshape(-1)\n",
        "\n",
        "    return histogram_vector\n",
        "\n",
        "label_encoder = LabelEncoder()\n",
        "\n",
        "# Function to load and preprocess training data\n",
        "def load_and_preprocess_train_data(folder_path):\n",
        "    data = []\n",
        "    labels = []\n",
        "\n",
        "    for subdir, _, files in os.walk(folder_path):\n",
        "        for file in files:\n",
        "            file_path = os.path.join(subdir, file)\n",
        "            if file_path.endswith('.csv'):\n",
        "                histogram_vector = preprocess_pose_data(file_path)\n",
        "                data.append(histogram_vector)\n",
        "\n",
        "                # Extract label from the filename\n",
        "                label = os.path.basename(file).split('_')[1]\n",
        "                labels.append(label)\n",
        "\n",
        "    X_train = np.array(data)\n",
        "    label_encoder = LabelEncoder()\n",
        "    y_train = label_encoder.fit_transform(labels)\n",
        "\n",
        "    return X_train, y_train\n",
        "\n",
        "# Function to load and preprocess test data with labels\n",
        "def load_and_preprocess_test_data(folder_path):\n",
        "    data = []\n",
        "    labels = []\n",
        "\n",
        "    for subdir, _, files in os.walk(folder_path):\n",
        "        for file in files:\n",
        "            file_path = os.path.join(subdir, file)\n",
        "            if file_path.endswith('.csv'):\n",
        "                histogram_vector = preprocess_pose_data(file_path)\n",
        "                data.append(histogram_vector)\n",
        "\n",
        "                # Extract label from the filename for the test set\n",
        "                file_basename = os.path.basename(file)\n",
        "                split_result = file_basename.split('_')\n",
        "\n",
        "                # Check if the split operation produced at least two elements\n",
        "                if len(split_result) >= 2:\n",
        "                    label = split_result[1]\n",
        "                    labels.append(label)\n",
        "                else:\n",
        "                    # If there is no underscore, use the entire filename as the label\n",
        "                    label = os.path.splitext(file_basename)[0]\n",
        "                    labels.append(label)\n",
        "\n",
        "    X_test = np.array(data)\n",
        "    return X_test, labels\n",
        "\n",
        "# Assuming your training data is in the folder '/content/learning-of-structured-data-fhws-ws2324 (1)/train/train'\n",
        "folder_path_train = 'D:/MAI/Sem 2/LST/Portfolio 3/train'\n",
        "X_train, y_train = load_and_preprocess_train_data(folder_path_train)\n",
        "\n",
        "# Assuming your test data is in the folder '/content/learning-of-structured-data-fhws-ws2324 (1)/test/test'\n",
        "folder_path_test = 'D:/MAI/Sem 2/LST/Portfolio 3/test'\n",
        "X_test, test_labels = load_and_preprocess_test_data(folder_path_test)\n",
        "\n",
        "# Fit the label_encoder on both training and test set labels\n",
        "all_labels = np.concatenate([y_train, test_labels])\n",
        "label_encoder.fit(all_labels)\n",
        "\n",
        "# Print shapes and values for debugging\n",
        "print(\"Shapes - X_train:\", X_train.shape, \" y_train:\", y_train.shape)\n",
        "print(\"Unique labels:\", np.unique(y_train))\n",
        "print(\"Shape of X_test:\", X_test.shape)\n",
        "\n"
      ]
    },
    {
      "cell_type": "code",
      "execution_count": 13,
      "metadata": {
        "id": "hlKC36CYd8o7"
      },
      "outputs": [
        {
          "name": "stdout",
          "output_type": "stream",
          "text": [
            "              precision    recall  f1-score   support\n",
            "\n",
            "           0       1.00      1.00      1.00        37\n",
            "           1       1.00      1.00      1.00        56\n",
            "           2       1.00      1.00      1.00        55\n",
            "           3       1.00      1.00      1.00        44\n",
            "           4       1.00      1.00      1.00        42\n",
            "\n",
            "    accuracy                           1.00       234\n",
            "   macro avg       1.00      1.00      1.00       234\n",
            "weighted avg       1.00      1.00      1.00       234\n",
            "\n"
          ]
        }
      ],
      "source": [
        "from sklearn.ensemble import RandomForestClassifier\n",
        "from sklearn.metrics import accuracy_score, classification_report\n",
        "from sklearn.model_selection import train_test_split\n",
        "\n",
        "# Initialize the RandomForestClassifier\n",
        "rf_classifier = RandomForestClassifier(n_estimators=1500, random_state=42)\n",
        "\n",
        "# Train the classifier on the entire training set\n",
        "rf_classifier.fit(X_train, y_train)\n",
        "\n",
        "# Make predictions on the test set\n",
        "y_test_pred = rf_classifier.predict(X_test)\n",
        "\n",
        "# Assuming test_labels is the original class labels for your test data\n",
        "# # Convert the predictions back to original class labels\n",
        "y_test_pred_original = label_encoder.inverse_transform(y_test_pred)\n",
        "\n",
        "\n",
        "X_train_split, X_val_split, y_train_split, y_val_split = train_test_split(\n",
        "    X_train, y_train, test_size=0.2, random_state=42\n",
        ")\n",
        "\n",
        "y_val_pred = rf_classifier.predict(X_val_split)\n",
        "\n",
        "# Print the classification report for the validation split\n",
        "print(classification_report(y_val_split, y_val_pred))"
      ]
    },
    {
      "cell_type": "code",
      "execution_count": 17,
      "metadata": {},
      "outputs": [
        {
          "name": "stdout",
          "output_type": "stream",
          "text": [
            "Cross-validation scores: [0.94858612 0.92802057 0.89717224]\n",
            "Mean cross-validation score: 0.9245929734361611\n"
          ]
        }
      ],
      "source": [
        "from sklearn.ensemble import RandomForestClassifier\n",
        "from sklearn.model_selection import cross_val_score\n",
        "\n",
        "# Perform cross-validation\n",
        "cv_scores = cross_val_score(rf_classifier, X_train, y_train, cv=3, scoring='accuracy')\n",
        "\n",
        "# Print cross-validation scores\n",
        "print(f\"Cross-validation scores: {cv_scores}\")\n",
        "print(f\"Mean cross-validation score: {cv_scores.mean()}\")"
      ]
    },
    {
      "cell_type": "code",
      "execution_count": null,
      "metadata": {},
      "outputs": [],
      "source": [
        "submission_df = pd.DataFrame({'ID': test_labels, 'action': y_test_pred_original})\n",
        "submission_df.to_csv('/content/learning-of-structured-data-fhws-ws2324 (1)/submission.csv', index=False)"
      ]
    }
  ],
  "metadata": {
    "colab": {
      "provenance": []
    },
    "kernelspec": {
      "display_name": "Python 3",
      "name": "python3"
    },
    "language_info": {
      "codemirror_mode": {
        "name": "ipython",
        "version": 3
      },
      "file_extension": ".py",
      "mimetype": "text/x-python",
      "name": "python",
      "nbconvert_exporter": "python",
      "pygments_lexer": "ipython3",
      "version": "3.10.11"
    }
  },
  "nbformat": 4,
  "nbformat_minor": 0
}
