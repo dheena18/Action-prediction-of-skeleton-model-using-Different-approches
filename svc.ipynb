{
 "cells": [
  {
   "cell_type": "code",
   "execution_count": 1,
   "metadata": {},
   "outputs": [],
   "source": [
    "import numpy as np\n",
    "import utils as Utils\n",
    "from sklearn.model_selection import train_test_split,GridSearchCV\n",
    "from sklearn.metrics import accuracy_score\n",
    "from sklearn.svm import SVC\n",
    "from sklearn.metrics import confusion_matrix\n",
    "import seaborn as sns\n",
    "import matplotlib.pyplot as plt"
   ]
  },
  {
   "cell_type": "code",
   "execution_count": 2,
   "metadata": {},
   "outputs": [],
   "source": [
    "trainData = Utils.importData('./data')\n",
    "testdata = Utils.importTestData('./data')"
   ]
  },
  {
   "cell_type": "code",
   "execution_count": 3,
   "metadata": {},
   "outputs": [],
   "source": [
    "np.random.shuffle(trainData)"
   ]
  },
  {
   "cell_type": "code",
   "execution_count": 4,
   "metadata": {},
   "outputs": [],
   "source": [
    "def compute_statistical_features(sequence):\n",
    "    mean_values = np.mean(sequence, axis=0)\n",
    "    std_deviation_values = np.std(sequence, axis=0)\n",
    "    max_values = np.max(sequence, axis=0)\n",
    "    min_values = np.min(sequence, axis=0)\n",
    "    range_values = np.ptp(sequence, axis=0) \n",
    "    features = np.concatenate([mean_values, std_deviation_values, max_values, min_values, range_values])\n",
    "    return features"
   ]
  },
  {
   "cell_type": "code",
   "execution_count": 5,
   "metadata": {},
   "outputs": [],
   "source": [
    "# List to store computed features and corresponding labels\n",
    "features_list_train = []\n",
    "labels_list_train = []"
   ]
  },
  {
   "cell_type": "code",
   "execution_count": 6,
   "metadata": {},
   "outputs": [],
   "source": [
    "for d in trainData:\n",
    "    \"\"\"\n",
    "    compute_statistical_features'\n",
    "    \"\"\"\n",
    "    features = compute_statistical_features(d[0])\n",
    "    features_list_train.append(features)\n",
    "    label = d[1]\n",
    "    labels_list_train.append(label)"
   ]
  },
  {
   "cell_type": "code",
   "execution_count": 7,
   "metadata": {},
   "outputs": [],
   "source": [
    "# Convert lists to NumPy arrays\n",
    "X = np.array(features_list_train)\n",
    "y = np.array(labels_list_train)"
   ]
  },
  {
   "cell_type": "code",
   "execution_count": 8,
   "metadata": {},
   "outputs": [],
   "source": [
    "# Split the data into training and testing sets\n",
    "X_train, X_test, y_train, y_test = train_test_split(X, y, test_size=0.20, random_state=124,shuffle=False)"
   ]
  },
  {
   "cell_type": "code",
   "execution_count": 9,
   "metadata": {},
   "outputs": [
    {
     "name": "stdout",
     "output_type": "stream",
     "text": [
      "933\n"
     ]
    }
   ],
   "source": [
    "print(len(X_train))"
   ]
  },
  {
   "cell_type": "code",
   "execution_count": 10,
   "metadata": {},
   "outputs": [],
   "source": [
    "# Define the parameter grid for grid search\n",
    "param_grid = {'C': [0.01,0.1, 1, 10,100,1000], 'kernel': ['linear', 'rbf', 'poly'], 'degree': [2, 3,4,5,6]}"
   ]
  },
  {
   "cell_type": "code",
   "execution_count": 11,
   "metadata": {},
   "outputs": [],
   "source": [
    "model = SVC(probability=True)"
   ]
  },
  {
   "cell_type": "code",
   "execution_count": 12,
   "metadata": {},
   "outputs": [],
   "source": [
    "grid_search = GridSearchCV(model, param_grid, cv=20, scoring='accuracy')"
   ]
  },
  {
   "cell_type": "code",
   "execution_count": 19,
   "metadata": {},
   "outputs": [
    {
     "name": "stdout",
     "output_type": "stream",
     "text": [
      "Best Parameters: {'C': 1000, 'degree': 2, 'kernel': 'rbf'}\n",
      "Number of support vectors for each class: [44 43 44 34 46]\n",
      "Total number of support vectors 211\n"
     ]
    }
   ],
   "source": [
    "# Perform grid search on the training data\n",
    "grid_search.fit(X_train, y_train)\n",
    "\n",
    "# Get the best parameters from grid search\n",
    "best_params = grid_search.best_params_\n",
    "print(f\"Best Parameters: {best_params}\")\n",
    "\n",
    "best_model = grid_search.best_estimator_\n",
    "\n",
    "# Get the number of support vectors for each class\n",
    "n_support = best_model.n_support_\n",
    "print(f'Number of support vectors for each class: {n_support}')\n",
    "print(f'Total number of support vectors {n_support.sum()}')"
   ]
  },
  {
   "cell_type": "code",
   "execution_count": 22,
   "metadata": {},
   "outputs": [],
   "source": [
    "# Use the best model for predictions\n",
    "predictions = best_model.predict(X_test)"
   ]
  },
  {
   "cell_type": "code",
   "execution_count": 23,
   "metadata": {},
   "outputs": [
    {
     "name": "stdout",
     "output_type": "stream",
     "text": [
      "Accuracy: 0.9572649572649573\n"
     ]
    }
   ],
   "source": [
    "# Evaluate the model\n",
    "accuracy = accuracy_score(y_test, predictions)\n",
    "print(f\"Accuracy: {accuracy}\")"
   ]
  },
  {
   "cell_type": "code",
   "execution_count": 24,
   "metadata": {},
   "outputs": [],
   "source": [
    "# Generate preds file\n",
    "#Write a output file\n",
    "import csv\n",
    "\n",
    "outputFile = open(\"final.csv\",'w',newline='')\n",
    "outCSVWriter = csv.writer(outputFile)\n",
    "outCSVWriter.writerow([\"id\",\"action\"])\n",
    "\n",
    "\n",
    "for d in testdata:\n",
    "    features = compute_statistical_features(d[0])\n",
    "    features = np.array([features])\n",
    "    fileId = d[1]\n",
    "    pred = best_model.predict(features)\n",
    "    outCSVWriter.writerow([int(fileId),pred[0]])\n",
    "\n",
    "outputFile.close()"
   ]
  },
  {
   "cell_type": "markdown",
   "metadata": {},
   "source": [
    "### Evaluation"
   ]
  },
  {
   "cell_type": "markdown",
   "metadata": {},
   "source": [
    "##### Best Hyperparameters:\n",
    "\n",
    "<p>C: 1000</p>\n",
    "<p>Degree: 2<p>\n",
    "<p>Kernel: 'rbf'</p>"
   ]
  },
  {
   "cell_type": "markdown",
   "metadata": {},
   "source": [
    "##### Theoretical Complexity:\n",
    "\n",
    "$$\\text{where, $n$ is number of support vectors and $m$ is no of features, where $z$ is no of samples, For the defined algorithm $n$ = 209, $m$ = 100 and $z$ = 933}$$\n",
    "\n",
    "<p><b>Memory Complexity (Training):</b></p>\n",
    "\n",
    "$$\\text{Memory Complexity for Training : } O(nm)$$\n",
    "\n",
    "<p><b>Runtime Complexity (Training):</b></p>\n",
    "\n",
    "$$\\text{Runtime Complexity for Training : } O(z^2m) $$\n",
    "\n",
    "<p><b>Memory Complexity (Testing):</b></p>\n",
    "\n",
    "$$\\text{Memory Complexity for Testing : }  O(nm)$$\n",
    "\n",
    "<p><b>Runtime Complexity (Testing):</b></p>\n",
    "\n",
    "$$\\text{Runtime Complexity for Testing:} O(nm) $$\n",
    "\n",
    "<p>The rbf kernel with degree 2 resulted in a moderately sparse model.</p>"
   ]
  },
  {
   "cell_type": "code",
   "execution_count": 17,
   "metadata": {},
   "outputs": [],
   "source": [
    "# Confusion Matrix\n",
    "cm = confusion_matrix(y_test, predictions)"
   ]
  },
  {
   "cell_type": "code",
   "execution_count": 25,
   "metadata": {},
   "outputs": [
    {
     "data": {
      "image/png": "[encoded data removed]",
      "text/plain": [
       "<Figure size 800x600 with 2 Axes>"
      ]
     },
     "metadata": {},
     "output_type": "display_data"
    }
   ],
   "source": [
    "# Display the confusion matrix\n",
    "target_names = ['boxing','drums','guitar','rowing','violin']\n",
    "plt.figure(figsize=(8, 6))\n",
    "sns.heatmap(cm, annot=True, fmt='d', cmap='Blues', xticklabels=target_names, yticklabels=target_names)\n",
    "plt.title('Confusion Matrix')\n",
    "plt.xlabel('Predicted Label')\n",
    "plt.ylabel('True Label')\n",
    "plt.show()"
   ]
  }
 ],
 "metadata": {
  "kernelspec": {
   "display_name": "Python 3",
   "language": "python",
   "name": "python3"
  },
  "language_info": {
   "codemirror_mode": {
    "name": "ipython",
    "version": 3
   },
   "file_extension": ".py",
   "mimetype": "text/x-python",
   "name": "python",
   "nbconvert_exporter": "python",
   "pygments_lexer": "ipython3",
   "version": "3.11.3"
  }
 },
 "nbformat": 4,
 "nbformat_minor": 2
}
